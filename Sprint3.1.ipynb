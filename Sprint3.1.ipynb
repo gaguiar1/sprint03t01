{
 "cells": [
  {
   "cell_type": "code",
   "execution_count": 56,
   "id": "a634607d",
   "metadata": {
    "ExecuteTime": {
     "end_time": "2021-09-16T10:28:17.557217Z",
     "start_time": "2021-09-16T10:28:17.533507Z"
    }
   },
   "outputs": [
    {
     "name": "stdout",
     "output_type": "stream",
     "text": [
      "[['enero', 'febrero', 'marzo'], ['abril', 'mayo', 'junio'], ['julio', 'agosto', 'septiembre'], ['octubre', 'noviembre', 'diciembre']]\n",
      "febrero\n",
      "['enero', 'febrero', 'marzo']\n",
      "septiembre octubre\n"
     ]
    }
   ],
   "source": [
    "tri1 = [\"enero\", \"febrero\", \"marzo\"]\n",
    "tri2 = [\"abril\", \"mayo\", \"junio\"]\n",
    "tri3 = [\"julio\", \"agosto\", \"septiembre\"]\n",
    "tri4 = [\"octubre\", \"noviembre\", \"diciembre\"]\n",
    "\n",
    "lista = []\n",
    "\n",
    "lista.append(tri1)\n",
    "lista.append(tri2)\n",
    "lista.append(tri3)\n",
    "lista.append(tri4)\n",
    "\n",
    "print(lista)\n",
    "print(lista[0] [1])\n",
    "print(lista[0])\n",
    "print(lista[2] [2], lista[3] [0])\n",
    "\n"
   ]
  },
  {
   "cell_type": "code",
   "execution_count": 69,
   "id": "68ee1234",
   "metadata": {
    "ExecuteTime": {
     "end_time": "2021-09-16T14:05:16.201825Z",
     "start_time": "2021-09-16T14:05:16.190773Z"
    }
   },
   "outputs": [
    {
     "name": "stdout",
     "output_type": "stream",
     "text": [
      "[4, 5, 2, 7, 1, 3, 9, 3, 8, 4, 3, 6]\n",
      "12\n",
      "3 2\n",
      "2\n",
      "9\n",
      "[1, 2, 3]\n",
      "4\n",
      "5\n",
      "2\n",
      "7\n",
      "1\n",
      "3\n",
      "9\n",
      "3\n",
      "8\n",
      "4\n",
      "3\n",
      "6\n"
     ]
    }
   ],
   "source": [
    "import heapq\n",
    "lista = [4, 5, 2, 7, 1, 3, 9, 3, 8, 4, 3, 6,]\n",
    "\n",
    "print(lista)\n",
    "print(len(lista))\n",
    "print(lista.count(3), lista.count(4))\n",
    "print(lista.count(4))\n",
    "print(max(lista))\n",
    "print(heapq.nsmallest(3, lista))\n",
    "\n",
    "for i in range(len(lista)):\n",
    "    print(lista[i])\n",
    "\n"
   ]
  },
  {
   "cell_type": "code",
   "execution_count": null,
   "id": "36f9173a",
   "metadata": {
    "ExecuteTime": {
     "end_time": "2021-09-16T13:58:48.940013Z",
     "start_time": "2021-09-16T13:58:48.927355Z"
    }
   },
   "outputs": [],
   "source": []
  },
  {
   "cell_type": "code",
   "execution_count": 122,
   "id": "d8cf7672",
   "metadata": {
    "ExecuteTime": {
     "end_time": "2021-09-22T08:25:14.737796Z",
     "start_time": "2021-09-22T08:25:14.723590Z"
    }
   },
   "outputs": [
    {
     "name": "stdout",
     "output_type": "stream",
     "text": [
      "{'Pomes': {'Qty': 5, '€': 0.42}, 'Peres': {'Qty': 3, '€': 0.66}}\n",
      "{'Pomes': {'Qty': 5, '€': 0.42}, 'Peres': {'Qty': 3, '€': 0.66}, 'Pressec': {'Qty': 2, '€': 0.57}}\n",
      "{'Qty': 5, '€': 0.42}\n",
      "{'Qty': 3, '€': 0.66}\n",
      "{'Qty': 2, '€': 0.57}\n",
      "dict_values([{'Qty': 5, '€': 0.42}, {'Qty': 3, '€': 0.66}, {'Qty': 2, '€': 0.57}])\n",
      "Se han comprado un total de 10 piezas de fruta\n",
      "La fruta más cara es el kilo de peras a €0.66kg\n",
      "Las peras han costado un total de {'€': 1.98}\n"
     ]
    }
   ],
   "source": [
    "compra = { \"Pomes\" : {\"Qty\": 5, \"€\": 0.42}, \"Peres\" : {\"Qty\": 3, \"€\": 0.66} }\n",
    "print(compra)\n",
    "compra2 = { \"Pressec\" : {\"Qty\": 2, \"€\": 0.57}}\n",
    "compra.update(compra2)\n",
    "print(compra)\n",
    "for x in compra:\n",
    "    print(compra[x])\n",
    "    \n",
    "y = compra.values()\n",
    "\n",
    "print(y)\n",
    "\n",
    "fruta_total = sum(d[\"Qty\"] for d in compra.values() if d)\n",
    "print(\"Se han comprado un total de\",(fruta_total), \"piezas de fruta\")\n",
    "    \n",
    "print(\"La fruta más cara es el kilo de peras a €0.66kg\")\n",
    "\n",
    "peres = {\"€\": 0.66 * 3}\n",
    "\n",
    "print(\"Las peras han costado un total de\",(peres))\n",
    "\n",
    "\n",
    "\n"
   ]
  },
  {
   "cell_type": "code",
   "execution_count": null,
   "id": "deb98ca4",
   "metadata": {},
   "outputs": [],
   "source": []
  }
 ],
 "metadata": {
  "kernelspec": {
   "display_name": "Python 3",
   "language": "python",
   "name": "python3"
  },
  "language_info": {
   "codemirror_mode": {
    "name": "ipython",
    "version": 3
   },
   "file_extension": ".py",
   "mimetype": "text/x-python",
   "name": "python",
   "nbconvert_exporter": "python",
   "pygments_lexer": "ipython3",
   "version": "3.8.8"
  }
 },
 "nbformat": 4,
 "nbformat_minor": 5
}
